{
 "cells": [
  {
   "cell_type": "code",
   "execution_count": 5,
   "metadata": {},
   "outputs": [],
   "source": [
    "contents = None\n",
    "with open(\"input.txt\", 'r') as f:\n",
    "    contents = [ tuple(pair.split(' ')) for pair in f.read().split('\\n')]\n",
    "    "
   ]
  },
  {
   "cell_type": "code",
   "execution_count": 14,
   "metadata": {},
   "outputs": [
    {
     "name": "stdout",
     "output_type": "stream",
     "text": [
      "Final position is 2019945\n"
     ]
    }
   ],
   "source": [
    "pos = dict(vertical=0, horizontal=0)\n",
    "\n",
    "for direction, distance in contents:\n",
    "    if direction == 'down':\n",
    "        pos['vertical'] += int(distance)\n",
    "    elif direction == 'up':\n",
    "        pos['vertical'] -= int(distance)\n",
    "    elif direction == 'forward':\n",
    "        pos['horizontal'] += int(distance)\n",
    "    else:\n",
    "        print(f\"Something went wrong. Direction: {direction}, Distance: {distance}\")\n",
    "        break\n",
    "\n",
    "print(f\"Final position is {pos['horizontal'] * pos['vertical']}\")"
   ]
  },
  {
   "cell_type": "code",
   "execution_count": 17,
   "metadata": {},
   "outputs": [
    {
     "name": "stdout",
     "output_type": "stream",
     "text": [
      "Final position is 1599311480\n"
     ]
    }
   ],
   "source": [
    "pos = dict(horizontal=0, depth=0, aim=0)\n",
    "\n",
    "for direction, distance in contents:\n",
    "    if direction == 'down':\n",
    "        pos['aim'] += int(distance)\n",
    "    elif direction == 'up':\n",
    "        pos['aim'] -= int(distance)\n",
    "    elif direction == 'forward':\n",
    "        pos['horizontal'] += int(distance)\n",
    "        pos['depth'] += pos['aim'] * int(distance)\n",
    "    else:\n",
    "        print(f\"Something went wrong. Direction: {direction}, Distance: {distance}\")\n",
    "        break\n",
    "\n",
    "print(f\"Final position is {pos['horizontal'] * pos['depth']}\")"
   ]
  }
 ],
 "metadata": {
  "interpreter": {
   "hash": "d4d1e4263499bec80672ea0156c357c1ee493ec2b1c70f0acce89fc37c4a6abe"
  },
  "kernelspec": {
   "display_name": "Python 3.9.10 ('base')",
   "language": "python",
   "name": "python3"
  },
  "language_info": {
   "codemirror_mode": {
    "name": "ipython",
    "version": 3
   },
   "file_extension": ".py",
   "mimetype": "text/x-python",
   "name": "python",
   "nbconvert_exporter": "python",
   "pygments_lexer": "ipython3",
   "version": "3.9.10"
  },
  "orig_nbformat": 4
 },
 "nbformat": 4,
 "nbformat_minor": 2
}
