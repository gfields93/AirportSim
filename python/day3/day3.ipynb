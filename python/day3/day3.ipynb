{
 "cells": [
  {
   "cell_type": "code",
   "execution_count": 11,
   "metadata": {},
   "outputs": [],
   "source": [
    "data = None\n",
    "with open('input.txt', 'r') as f:\n",
    "    data = [list(line) for line in f.read().split('\\n')]\n"
   ]
  },
  {
   "cell_type": "code",
   "execution_count": 20,
   "metadata": {},
   "outputs": [
    {
     "name": "stdout",
     "output_type": "stream",
     "text": [
      "Gamma rate 177, Epsilon rate 3918\n",
      "Total power consumption  693486\n"
     ]
    }
   ],
   "source": [
    "bit_positions = dict()\n",
    "for col in range(len(data)):\n",
    "    for row in range(len(data[col])):\n",
    "        if data[col][row] == '1':\n",
    "            if row not in bit_positions.keys():\n",
    "                bit_positions[row] = 1\n",
    "            else:\n",
    "                bit_positions[row] += 1\n",
    "        else: \n",
    "            continue\n",
    "gamma_rate = \"\"\n",
    "epsilon_rate = \"\"\n",
    "for bit in range(len(bit_positions)):\n",
    "    if bit_positions[bit] > 500:\n",
    "        gamma_rate += '1'\n",
    "        epsilon_rate += '0'\n",
    "    else:\n",
    "        gamma_rate += '0'\n",
    "        epsilon_rate += '1'\n",
    "\n",
    "print(f\"Gamma rate {int(gamma_rate, 2)}, Epsilon rate {int(epsilon_rate, 2)}\")\n",
    "print(f\"Total power consumption  {int(gamma_rate, 2)*int(epsilon_rate, 2)}\")"
   ]
  }
 ],
 "metadata": {
  "interpreter": {
   "hash": "d4d1e4263499bec80672ea0156c357c1ee493ec2b1c70f0acce89fc37c4a6abe"
  },
  "kernelspec": {
   "display_name": "Python 3.9.10 ('base')",
   "language": "python",
   "name": "python3"
  },
  "language_info": {
   "codemirror_mode": {
    "name": "ipython",
    "version": 3
   },
   "file_extension": ".py",
   "mimetype": "text/x-python",
   "name": "python",
   "nbconvert_exporter": "python",
   "pygments_lexer": "ipython3",
   "version": "3.9.10"
  },
  "orig_nbformat": 4
 },
 "nbformat": 4,
 "nbformat_minor": 2
}
