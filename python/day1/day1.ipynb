{
 "cells": [
  {
   "cell_type": "code",
   "execution_count": 29,
   "metadata": {},
   "outputs": [],
   "source": [
    "#Read from file into an array\n",
    "file_data = None\n",
    "with open(\"input.txt\", 'r') as f:\n",
    "    file_data = f.read().split('\\n')\n",
    "\n",
    "file_data = [int(x) for x in file_data]\n"
   ]
  },
  {
   "cell_type": "code",
   "execution_count": 30,
   "metadata": {},
   "outputs": [
    {
     "name": "stdout",
     "output_type": "stream",
     "text": [
      "1184\n"
     ]
    }
   ],
   "source": [
    "increases = 0\n",
    "for x in range(len(file_data)-1):\n",
    "    if file_data[x] < file_data[x+1]:\n",
    "        increases += 1\n",
    "\n",
    "print(increases)"
   ]
  },
  {
   "cell_type": "code",
   "execution_count": 34,
   "metadata": {},
   "outputs": [
    {
     "name": "stdout",
     "output_type": "stream",
     "text": [
      "1158\n"
     ]
    }
   ],
   "source": [
    "# Split list into thirds'\n",
    "increases = 0\n",
    "arr_of_groups = [sum(file_data[i:i+3]) for i in range(len(file_data))]\n",
    "for i in range(len(arr_of_groups)-1):\n",
    "    if arr_of_groups[i] < arr_of_groups[i+1]:\n",
    "        increases += 1\n",
    "print(increases)"
   ]
  },
  {
   "cell_type": "code",
   "execution_count": null,
   "metadata": {},
   "outputs": [],
   "source": []
  }
 ],
 "metadata": {
  "interpreter": {
   "hash": "d4d1e4263499bec80672ea0156c357c1ee493ec2b1c70f0acce89fc37c4a6abe"
  },
  "kernelspec": {
   "display_name": "Python 3.9.10 ('base')",
   "language": "python",
   "name": "python3"
  },
  "language_info": {
   "codemirror_mode": {
    "name": "ipython",
    "version": 3
   },
   "file_extension": ".py",
   "mimetype": "text/x-python",
   "name": "python",
   "nbconvert_exporter": "python",
   "pygments_lexer": "ipython3",
   "version": "3.9.10"
  },
  "orig_nbformat": 4
 },
 "nbformat": 4,
 "nbformat_minor": 2
}
